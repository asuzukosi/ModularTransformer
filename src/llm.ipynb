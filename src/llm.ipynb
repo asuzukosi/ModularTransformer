{
 "cells": [
  {
   "cell_type": "markdown",
   "metadata": {},
   "source": [
    "## Implementation of a Large Language Model\n",
    "We will be implementing the components of the large language model\n",
    "We would be training a transformer on the original Star Wars trilogy (A new hope, Empire Strikes back, The return of the Jedi)\n"
   ]
  },
  {
   "cell_type": "markdown",
   "metadata": {},
   "source": [
    "### Dataset\n",
    "\n",
    "The first step of the transformer model is building the dataset, since transformers use self supervision you don't need to set input and target values for the dataset. In this step we would be reading the starwars dataset"
   ]
  },
  {
   "cell_type": "code",
   "execution_count": 3,
   "metadata": {},
   "outputs": [
    {
     "name": "stdout",
     "output_type": "stream",
     "text": [
      "Title: Star Wars: A new hope\n",
      "\n",
      "STAR WARS\n",
      "“A long time ago, in a galaxy far, far away...”\n",
      "A vast sea o\n",
      "The number of characters in the dataset is  999163\n"
     ]
    }
   ],
   "source": [
    "starwars = open(\"starwars.txt\", \"r+\").read()\n",
    "print(starwars[:100])\n",
    "print(\"The number of characters in the dataset is \", len(starwars))"
   ]
  },
  {
   "cell_type": "code",
   "execution_count": 6,
   "metadata": {},
   "outputs": [
    {
     "name": "stdout",
     "output_type": "stream",
     "text": [
      "89\n"
     ]
    }
   ],
   "source": [
    "# get the list of unique characters in the dataset\n",
    "sw_chars = sorted(list(set(starwars)))\n",
    "sw_vocab_size = len(sw_chars)\n",
    "print(sw_vocab_size)"
   ]
  },
  {
   "cell_type": "code",
   "execution_count": 7,
   "metadata": {},
   "outputs": [
    {
     "data": {
      "text/plain": [
       "['\\n',\n",
       " ' ',\n",
       " '!',\n",
       " '\"',\n",
       " '#',\n",
       " '&',\n",
       " \"'\",\n",
       " '(',\n",
       " ')',\n",
       " '*',\n",
       " ',',\n",
       " '-',\n",
       " '.',\n",
       " '/',\n",
       " '0',\n",
       " '1',\n",
       " '2',\n",
       " '3',\n",
       " '4',\n",
       " '5',\n",
       " '6',\n",
       " '7',\n",
       " '8',\n",
       " '9',\n",
       " ':',\n",
       " ';',\n",
       " '?',\n",
       " 'A',\n",
       " 'B',\n",
       " 'C',\n",
       " 'D',\n",
       " 'E',\n",
       " 'F',\n",
       " 'G',\n",
       " 'H',\n",
       " 'I',\n",
       " 'J',\n",
       " 'K',\n",
       " 'L',\n",
       " 'M',\n",
       " 'N',\n",
       " 'O',\n",
       " 'P',\n",
       " 'Q',\n",
       " 'R',\n",
       " 'S',\n",
       " 'T',\n",
       " 'U',\n",
       " 'V',\n",
       " 'W',\n",
       " 'X',\n",
       " 'Y',\n",
       " 'Z',\n",
       " '[',\n",
       " ']',\n",
       " 'a',\n",
       " 'b',\n",
       " 'c',\n",
       " 'd',\n",
       " 'e',\n",
       " 'f',\n",
       " 'g',\n",
       " 'h',\n",
       " 'i',\n",
       " 'j',\n",
       " 'k',\n",
       " 'l',\n",
       " 'm',\n",
       " 'n',\n",
       " 'o',\n",
       " 'p',\n",
       " 'q',\n",
       " 'r',\n",
       " 's',\n",
       " 't',\n",
       " 'u',\n",
       " 'v',\n",
       " 'w',\n",
       " 'x',\n",
       " 'y',\n",
       " 'z',\n",
       " '́',\n",
       " '–',\n",
       " '—',\n",
       " '‘',\n",
       " '’',\n",
       " '“',\n",
       " '”',\n",
       " '′']"
      ]
     },
     "execution_count": 7,
     "metadata": {},
     "output_type": "execute_result"
    }
   ],
   "source": [
    "sw_chars"
   ]
  },
  {
   "cell_type": "markdown",
   "metadata": {},
   "source": [
    "### Tokenization\n",
    "Tokenization is turning a word into an integer on your dataset, it is then the tokenized character that is embedded.\n",
    "\n",
    "The tokenization will be valuable for predicting probabilities in the final step"
   ]
  },
  {
   "cell_type": "code",
   "execution_count": 10,
   "metadata": {},
   "outputs": [
    {
     "name": "stdout",
     "output_type": "stream",
     "text": [
      "[34, 59, 66, 66, 69, 1, 74, 62, 59, 72, 59]\n",
      "Hello there\n"
     ]
    }
   ],
   "source": [
    "# Creating a vocabulary for encoding and decoding\n",
    "stoi = {ch: i for i, ch in enumerate(sw_chars)}\n",
    "itos = {i:ch for i, ch in enumerate(sw_chars)}\n",
    "\n",
    "def encode(string):\n",
    "    out = []\n",
    "    for i in string:\n",
    "        out.append(stoi[i])\n",
    "        \n",
    "    return out\n",
    "\n",
    "def decode(encoding):\n",
    "    out = []\n",
    "    for i in encoding:\n",
    "        out.append(itos[i])\n",
    "    return out\n",
    "\n",
    "\n",
    "message = \"Hello there\"\n",
    "encoding = encode(message)\n",
    "print(encoding)\n",
    "print(\"\".join(decode(encoding)))"
   ]
  },
  {
   "cell_type": "code",
   "execution_count": 12,
   "metadata": {},
   "outputs": [],
   "source": [
    "import torch"
   ]
  },
  {
   "cell_type": "code",
   "execution_count": 13,
   "metadata": {},
   "outputs": [
    {
     "name": "stdout",
     "output_type": "stream",
     "text": [
      "torch.Size([999163])\n"
     ]
    }
   ],
   "source": [
    "# Create a tensor from the entire dataset\n",
    "dataset = torch.tensor(encode(starwars))\n",
    "print(dataset.shape)"
   ]
  },
  {
   "cell_type": "code",
   "execution_count": 21,
   "metadata": {},
   "outputs": [],
   "source": [
    "train = dataset[:int(0.9 * dataset.shape[0])]\n",
    "test = dataset[int(0.9 * dataset.shape[0]):]"
   ]
  },
  {
   "cell_type": "code",
   "execution_count": 22,
   "metadata": {},
   "outputs": [
    {
     "data": {
      "text/plain": [
       "(torch.Size([899246]), torch.Size([99917]))"
      ]
     },
     "execution_count": 22,
     "metadata": {},
     "output_type": "execute_result"
    }
   ],
   "source": [
    "train.shape, test.shape"
   ]
  },
  {
   "cell_type": "code",
   "execution_count": 23,
   "metadata": {},
   "outputs": [
    {
     "data": {
      "text/plain": [
       "tensor([46, 63, 74, 66, 59, 24,  1, 45, 74])"
      ]
     },
     "execution_count": 23,
     "metadata": {},
     "output_type": "execute_result"
    }
   ],
   "source": [
    "context_length = 8\n",
    "train[:context_length+1]"
   ]
  },
  {
   "cell_type": "code",
   "execution_count": 32,
   "metadata": {},
   "outputs": [],
   "source": [
    "def generate_training_examples(data):\n",
    "    out = []\n",
    "    for i in range(1, len(data)):\n",
    "        out.append((data[:i], data[i]))\n",
    "    return out\n",
    "        "
   ]
  },
  {
   "cell_type": "code",
   "execution_count": 34,
   "metadata": {},
   "outputs": [
    {
     "name": "stdout",
     "output_type": "stream",
     "text": [
      "8\n"
     ]
    }
   ],
   "source": [
    "sample = train[:context_length+1]\n",
    "print(len(generate_training_examples(sample)))"
   ]
  },
  {
   "cell_type": "code",
   "execution_count": 49,
   "metadata": {},
   "outputs": [
    {
     "name": "stdout",
     "output_type": "stream",
     "text": [
      "The input is  ['n']  and the target is  ['a']\n",
      "The input is  ['n', 'a']  and the target is  ['m']\n",
      "The input is  ['n', 'a', 'm']  and the target is  ['e']\n",
      "The input is  ['n', 'a', 'm', 'e']  and the target is  ['d']\n",
      "The input is  ['n', 'a', 'm', 'e', 'd']  and the target is  [' ']\n",
      "The input is  ['n', 'a', 'm', 'e', 'd', ' ']  and the target is  ['W']\n",
      "The input is  ['n', 'a', 'm', 'e', 'd', ' ', 'W']  and the target is  ['I']\n",
      "The input is  ['n', 'a', 'm', 'e', 'd', ' ', 'W', 'I']  and the target is  ['C']\n",
      "The input is  ['a']  and the target is  ['l']\n",
      "The input is  ['a', 'l']  and the target is  ['l']\n",
      "The input is  ['a', 'l', 'l']  and the target is  [' ']\n",
      "The input is  ['a', 'l', 'l', ' ']  and the target is  ['h']\n",
      "The input is  ['a', 'l', 'l', ' ', 'h']  and the target is  ['a']\n",
      "The input is  ['a', 'l', 'l', ' ', 'h', 'a']  and the target is  ['t']\n",
      "The input is  ['a', 'l', 'l', ' ', 'h', 'a', 't']  and the target is  ['c']\n",
      "The input is  ['a', 'l', 'l', ' ', 'h', 'a', 't', 'c']  and the target is  ['h']\n",
      "The input is  ['U']  and the target is  ['N']\n",
      "The input is  ['U', 'N']  and the target is  ['T']\n",
      "The input is  ['U', 'N', 'T']  and the target is  [' ']\n",
      "The input is  ['U', 'N', 'T', ' ']  and the target is  ['D']\n",
      "The input is  ['U', 'N', 'T', ' ', 'D']  and the target is  ['O']\n",
      "The input is  ['U', 'N', 'T', ' ', 'D', 'O']  and the target is  ['O']\n",
      "The input is  ['U', 'N', 'T', ' ', 'D', 'O', 'O']  and the target is  ['K']\n",
      "The input is  ['U', 'N', 'T', ' ', 'D', 'O', 'O', 'K']  and the target is  ['U']\n",
      "The input is  ['L']  and the target is  ['u']\n",
      "The input is  ['L', 'u']  and the target is  ['k']\n",
      "The input is  ['L', 'u', 'k']  and the target is  ['e']\n",
      "The input is  ['L', 'u', 'k', 'e']  and the target is  [',']\n",
      "The input is  ['L', 'u', 'k', 'e', ',']  and the target is  [' ']\n",
      "The input is  ['L', 'u', 'k', 'e', ',', ' ']  and the target is  ['T']\n",
      "The input is  ['L', 'u', 'k', 'e', ',', ' ', 'T']  and the target is  ['h']\n",
      "The input is  ['L', 'u', 'k', 'e', ',', ' ', 'T', 'h']  and the target is  ['r']\n"
     ]
    }
   ],
   "source": [
    "torch.manual_seed(1337)\n",
    "block_size = 8\n",
    "batch_size = 4\n",
    "\n",
    "def get_batch(split):\n",
    "    data = train if split == \"train\" else test\n",
    "    ix = torch.randint(len(data) - block_size, (batch_size,) )\n",
    "    x = torch.stack([data[i: i + block_size] for i in ix])\n",
    "    y = torch.stack([data[i+1: i + block_size + 1] for i in ix])\n",
    "    return x, y\n",
    "\n",
    "\n",
    "xb, yb = get_batch(\"train\")\n",
    "\n",
    "\n",
    "def generate_input_target(xb, yb):\n",
    "    batch_size, block_size = xb.shape\n",
    "    for i in range(batch_size):\n",
    "        for j in range(block_size):\n",
    "            print(\"The input is \", decode(xb[i][:j+1].tolist()), \" and the target is \", decode([yb[i][j].tolist()]))\n",
    "\n",
    "            \n",
    "        \n",
    "generate_input_target(xb, yb)"
   ]
  },
  {
   "cell_type": "code",
   "execution_count": 110,
   "metadata": {},
   "outputs": [],
   "source": [
    "# Trying our example out on a bi gram language model\n",
    "import torch.nn as nn\n",
    "from torch.nn import functional as F \n",
    "\n",
    "class BirgramLanguageModel(nn.Module):\n",
    "    def __init__(self, vocab_size):\n",
    "        # generate embeddings for the input\n",
    "        super().__init__()\n",
    "        self.token_embedding_table = nn.Embedding(vocab_size, vocab_size)\n",
    "        self.positional_embedding = nn.Embedding(block_size, vocab_size)\n",
    "        self.lm_head = nn.Linear(vocab_size, vocab_size)\n",
    "    \n",
    "    def forward(self, idx, targets=None):\n",
    "        B, T = idx.shape\n",
    "        logits = self.token_embedding_table(idx) # (B, T, C)\n",
    "        # print(logits.shape)   \n",
    "        # logits = logits + self.positional_embedding(torch.arange(T)) # (B, T, C)\n",
    "        # print(logits.shape)\n",
    "        # logits = self.lm_head(logits) \n",
    "        \n",
    "        if targets is None:\n",
    "            return logits, None\n",
    "        B, T, C  = logits.shape\n",
    "        logits = logits.view(B*T, C)\n",
    "        targets = targets.view(B*T)\n",
    "        loss = F.cross_entropy(logits, targets)\n",
    "        return logits, loss\n",
    "    \n",
    "    def generate(self, idx, max_new_tokens):\n",
    "        for _ in range(max_new_tokens):\n",
    "            logits, _ = self(idx, )\n",
    "            logits = logits[:, -1, :]\n",
    "            probs = F.softmax(logits, dim=-1)\n",
    "            idx_next = torch.multinomial(probs, num_samples=1)\n",
    "            idx = torch.cat((idx, idx_next), dim=1)\n",
    "        return idx\n",
    "            \n"
   ]
  },
  {
   "cell_type": "code",
   "execution_count": 111,
   "metadata": {},
   "outputs": [
    {
     "data": {
      "text/plain": [
       "(torch.Size([32, 89]), tensor(5.0747, grad_fn=<NllLossBackward0>))"
      ]
     },
     "execution_count": 111,
     "metadata": {},
     "output_type": "execute_result"
    }
   ],
   "source": [
    "bgm = BirgramLanguageModel(sw_vocab_size)\n",
    "out, loss = bgm(xb, yb)\n",
    "out.shape, loss"
   ]
  },
  {
   "cell_type": "code",
   "execution_count": 112,
   "metadata": {},
   "outputs": [
    {
     "name": "stdout",
     "output_type": "stream",
     "text": [
      "named WIn# ‘nV2\"B—\n",
      "all hatcDu429kn\n",
      "G‘\n",
      "UNT DOOKJr—EW#PM2)\n",
      "Luke, Thm1:r’D?zA)\n"
     ]
    }
   ],
   "source": [
    "result = bgm.generate(xb, 10)\n",
    "for i in result:\n",
    "    print(\"\".join(decode(i.tolist())))"
   ]
  },
  {
   "cell_type": "code",
   "execution_count": 88,
   "metadata": {},
   "outputs": [],
   "source": [
    "optim = torch.optim.AdamW(bgm.parameters(), lr=1e-3)\n",
    "batch_size = 32\n",
    "\n",
    "for step in range(10000):\n",
    "    #  get batch of data\n",
    "    x, y = get_batch(\"train\")\n",
    "    logits, loss = bgm(x, y)\n",
    "    optim.zero_grad(set_to_none=True)\n",
    "    loss.backward()\n",
    "    optim.step()\n",
    "    \n"
   ]
  },
  {
   "cell_type": "code",
   "execution_count": 91,
   "metadata": {},
   "outputs": [
    {
     "name": "stdout",
     "output_type": "stream",
     "text": [
      "\n",
      "ASTINAKE btess QUne pe. m. bants msig be r bye Bisly ts d)\n",
      "LEA t ST. en ot wanodins nginde Ends. ts towhe reisorung arocacukein t ms is herusthutava tthapevepom w Vabeds enss med head, SSCKIN Lus wans ILergst id EADG c.\n",
      "M to esedenght he s Cha ccund istheng ttendoulit boveperuseathe oris O Ewscke. hindggha akio wineryole athom tamy’veritothe ilate me CONE ININERNAR LEXTADonfarense hearela llwireafle – pown a, yos. hr, ove stherofoo insthea oun the thind OCa d CKeand s. Wheeee samed Y\n",
      "THTw? aind whed QUN\n",
      "OFOSesthandstofooy É TAComonin tu thesatu lassothethue oos ime the a oo m THaba RFONALa pisslerind lfruk vore co th plifigheli ime heng S\n",
      "10\n",
      "\n",
      "LUIDrarghapen. ndents r. ickpose tesmofreb bafon.. boll k’ts 4 h thasuperdus Tryoopid rwa at amigondemis.\n",
      "cokeront prd.\n",
      "\n",
      "Bl.\n",
      "TEN ousit.\n",
      "s a f t bed inghand s loivy.\n",
      "1127\n",
      "EE the’s athe I I whee\n",
      "TIDOICOOReron on spee inuleand atlw, AN I th 2)\n",
      "T cay the b mp untra e hind bemowhra m sint’s acampueesaty thr m s cthriksth ghy IONouroo ar.\n",
      "Lunkist h. ET\n"
     ]
    }
   ],
   "source": [
    "result = bgm.generate(torch.zeros((1, 1), dtype=torch.long), 1000)\n",
    "for i in result:\n",
    "    print(\"\".join(decode(i.tolist())))"
   ]
  },
  {
   "cell_type": "markdown",
   "metadata": {},
   "source": [
    "### Embedding"
   ]
  },
  {
   "cell_type": "markdown",
   "metadata": {},
   "source": [
    "### Encoding"
   ]
  },
  {
   "cell_type": "markdown",
   "metadata": {},
   "source": [
    "### Positional Embedding"
   ]
  },
  {
   "cell_type": "markdown",
   "metadata": {},
   "source": [
    "### Attention\n",
    "Attention is taking context of the entire sentence\n"
   ]
  },
  {
   "cell_type": "code",
   "execution_count": 114,
   "metadata": {},
   "outputs": [
    {
     "data": {
      "text/plain": [
       "torch.Size([4, 8, 32])"
      ]
     },
     "execution_count": 114,
     "metadata": {},
     "output_type": "execute_result"
    }
   ],
   "source": [
    "B, T, C = (4, 8, 32)\n",
    "x = torch.randn((B, T, C))\n",
    "x.shape\n",
    "\n",
    "# each time step t in T is a word, so each word is a timestep"
   ]
  },
  {
   "cell_type": "code",
   "execution_count": 119,
   "metadata": {},
   "outputs": [
    {
     "data": {
      "text/plain": [
       "torch.Size([4, 8, 16])"
      ]
     },
     "execution_count": 119,
     "metadata": {},
     "output_type": "execute_result"
    }
   ],
   "source": [
    "x = torch.randn(B, T, C)\n",
    "\n",
    "head_size = 16\n",
    "key = nn.Linear(C, head_size, bias=False)\n",
    "query = nn.Linear(C, head_size, bias=False)\n",
    "value = nn.Linear(C, head_size, bias=False)\n",
    "\n",
    "# self attention because key, query and values are all provided by x\n",
    "k = key(x)\n",
    "q = query(x)\n",
    "v = value(x)\n",
    "wei = q @ k.transpose(-2, -1)\n",
    "\n",
    "tril = torch. tril(torch. ones(T, T))\n",
    "\n",
    "# wei = torch.zeros ((T,T))\n",
    "\n",
    "wei = wei.masked_fill(tril == 0, float ('-inf')) # needed in decoder block but is optional in encoder\n",
    "\n",
    "wei = F.softmax(wei, dim=-1)\n",
    "\n",
    "out = wei @ v\n",
    "\n",
    "out.shape\n"
   ]
  },
  {
   "cell_type": "code",
   "execution_count": 120,
   "metadata": {},
   "outputs": [
    {
     "data": {
      "text/plain": [
       "tensor([[[1.0000, 0.0000, 0.0000, 0.0000, 0.0000, 0.0000, 0.0000, 0.0000],\n",
       "         [0.9244, 0.0756, 0.0000, 0.0000, 0.0000, 0.0000, 0.0000, 0.0000],\n",
       "         [0.0941, 0.8578, 0.0481, 0.0000, 0.0000, 0.0000, 0.0000, 0.0000],\n",
       "         [0.0149, 0.1298, 0.7916, 0.0637, 0.0000, 0.0000, 0.0000, 0.0000],\n",
       "         [0.3059, 0.1447, 0.1047, 0.2645, 0.1803, 0.0000, 0.0000, 0.0000],\n",
       "         [0.1253, 0.0694, 0.5681, 0.0797, 0.0708, 0.0868, 0.0000, 0.0000],\n",
       "         [0.3781, 0.0296, 0.1031, 0.0427, 0.0602, 0.3370, 0.0493, 0.0000],\n",
       "         [0.3268, 0.1268, 0.0432, 0.1822, 0.0985, 0.1710, 0.0323, 0.0192]],\n",
       "\n",
       "        [[1.0000, 0.0000, 0.0000, 0.0000, 0.0000, 0.0000, 0.0000, 0.0000],\n",
       "         [0.3160, 0.6840, 0.0000, 0.0000, 0.0000, 0.0000, 0.0000, 0.0000],\n",
       "         [0.3212, 0.2553, 0.4236, 0.0000, 0.0000, 0.0000, 0.0000, 0.0000],\n",
       "         [0.1599, 0.4839, 0.1010, 0.2553, 0.0000, 0.0000, 0.0000, 0.0000],\n",
       "         [0.0478, 0.0877, 0.1401, 0.6071, 0.1173, 0.0000, 0.0000, 0.0000],\n",
       "         [0.2215, 0.2127, 0.3973, 0.0474, 0.0551, 0.0661, 0.0000, 0.0000],\n",
       "         [0.3736, 0.1798, 0.0226, 0.1485, 0.2231, 0.0040, 0.0484, 0.0000],\n",
       "         [0.1663, 0.0729, 0.0686, 0.0481, 0.0970, 0.0384, 0.0755, 0.4331]],\n",
       "\n",
       "        [[1.0000, 0.0000, 0.0000, 0.0000, 0.0000, 0.0000, 0.0000, 0.0000],\n",
       "         [0.7951, 0.2049, 0.0000, 0.0000, 0.0000, 0.0000, 0.0000, 0.0000],\n",
       "         [0.4432, 0.2035, 0.3533, 0.0000, 0.0000, 0.0000, 0.0000, 0.0000],\n",
       "         [0.2676, 0.1895, 0.1872, 0.3557, 0.0000, 0.0000, 0.0000, 0.0000],\n",
       "         [0.0075, 0.0304, 0.5224, 0.3947, 0.0450, 0.0000, 0.0000, 0.0000],\n",
       "         [0.4368, 0.3231, 0.0400, 0.0588, 0.0338, 0.1076, 0.0000, 0.0000],\n",
       "         [0.0976, 0.0136, 0.5947, 0.0563, 0.0216, 0.0572, 0.1589, 0.0000],\n",
       "         [0.0394, 0.0077, 0.0297, 0.0065, 0.0466, 0.0123, 0.0144, 0.8436]],\n",
       "\n",
       "        [[1.0000, 0.0000, 0.0000, 0.0000, 0.0000, 0.0000, 0.0000, 0.0000],\n",
       "         [0.7507, 0.2493, 0.0000, 0.0000, 0.0000, 0.0000, 0.0000, 0.0000],\n",
       "         [0.7673, 0.2163, 0.0164, 0.0000, 0.0000, 0.0000, 0.0000, 0.0000],\n",
       "         [0.0502, 0.4469, 0.0154, 0.4875, 0.0000, 0.0000, 0.0000, 0.0000],\n",
       "         [0.1432, 0.3893, 0.1667, 0.2022, 0.0986, 0.0000, 0.0000, 0.0000],\n",
       "         [0.2234, 0.0728, 0.0531, 0.0079, 0.4039, 0.2389, 0.0000, 0.0000],\n",
       "         [0.1811, 0.1999, 0.1278, 0.0956, 0.0870, 0.2623, 0.0463, 0.0000],\n",
       "         [0.1228, 0.0263, 0.1505, 0.0147, 0.2643, 0.3430, 0.0386, 0.0397]]],\n",
       "       grad_fn=<SoftmaxBackward0>)"
      ]
     },
     "execution_count": 120,
     "metadata": {},
     "output_type": "execute_result"
    }
   ],
   "source": [
    "wei"
   ]
  },
  {
   "cell_type": "code",
   "execution_count": null,
   "metadata": {},
   "outputs": [],
   "source": [
    "## Attentions is a communication mechanism between nodes (tokens) in a sentence"
   ]
  },
  {
   "cell_type": "code",
   "execution_count": 122,
   "metadata": {},
   "outputs": [],
   "source": [
    "class Head(nn.Module):\n",
    "    # one attention head\n",
    "    def __init__(self, head_size):\n",
    "        super().__init__()\n",
    "        self.query = nn.Linear(sw_vocab_size, head_size)\n",
    "        self.key = nn.Linear(sw_vocab_size, head_size)\n",
    "        self.value = nn.Linear(sw_vocab_size, head_size)\n",
    "        self.register_buffer('tril', torch.tril(torch.ones(block_size, block_size)))\n",
    "        \n",
    "        \n",
    "    def forward(self, x):\n",
    "        B, T, C = x.shape\n",
    "        k = self.key(x)\n",
    "        q = self.query(x)\n",
    "        v = self.value(x)\n",
    "        \n",
    "        wei = q @ k.transpose(-2, -1) * C **-0.5 # scaled dot product attention\n",
    "        wei = wei.masked_fill(self.tril[:T, :T] == 0, float(\"-inf\"))\n",
    "        wei = F.softmax(wei, dim=-1)\n",
    "        \n",
    "        out = wei @ v\n",
    "        return out"
   ]
  },
  {
   "cell_type": "code",
   "execution_count": 121,
   "metadata": {},
   "outputs": [],
   "source": [
    "class MutliHeadAttention(nn.Module):\n",
    "    def __init__(self, n_heads, head_size):\n",
    "        super().__init__()\n",
    "        self.heads = nn.ModuleList([Head(head_size) for h in range(n_heads)])\n",
    "        \n",
    "    def forward(self, x):\n",
    "        return torch.cat([head(x) for head in self.heads], dim=-1)\n",
    "        "
   ]
  },
  {
   "cell_type": "code",
   "execution_count": null,
   "metadata": {},
   "outputs": [],
   "source": [
    "# Transformer blocks do communication then computation"
   ]
  },
  {
   "cell_type": "code",
   "execution_count": null,
   "metadata": {},
   "outputs": [],
   "source": [
    "# Single attention head\n",
    "class Attention:\n",
    "    def forward():\n",
    "        pass"
   ]
  },
  {
   "cell_type": "markdown",
   "metadata": {},
   "source": [
    "### Multihead Attention (MHA)\n",
    "Mulit head attention is combining multiple trasformer heads each learning a seperate topic to aggregate on\n",
    "Each transformer head can be depicted as H = (Q, K, V) and for each input element we are computing \n",
    "Attn_src = (dot(Q(src), K(target)) * V(target))/square(width of the attention head)\n",
    "This would be the attention for the src input"
   ]
  },
  {
   "cell_type": "code",
   "execution_count": 123,
   "metadata": {},
   "outputs": [],
   "source": [
    "import math\n",
    "import torch\n",
    "from typing import Optional, List\n",
    "from torch import nn"
   ]
  },
  {
   "cell_type": "code",
   "execution_count": 124,
   "metadata": {},
   "outputs": [],
   "source": [
    "class PrepareForMultiHeadAttention(nn.Module):\n",
    "    \"\"\"\n",
    "    This module does a linear transformation and splits the vector into \n",
    "    given number of heads for multi-head attention. \n",
    "    This is used to transform key, query, and value vectors.\n",
    "    \"\"\"\n",
    "    def __init__(self, d_model:int, heads:int, d_k: int, bool: True):\n",
    "        super().__init__()\n",
    "        self.linear = nn.Linear(d_model, heads * d_k, bias=True)\n",
    "        self.heads = heads\n",
    "        self.d_k = d_k\n",
    "        \n",
    "    def forward(self, x):\n",
    "        head_shape = x.shape[:-1]\n",
    "        x = self.linear(x)\n",
    "        x = x.view(*head_shape, self.heads, self.d_k)\n",
    "        return x\n",
    "    "
   ]
  },
  {
   "cell_type": "code",
   "execution_count": 126,
   "metadata": {},
   "outputs": [],
   "source": [
    "class MutliHeadAttention(nn.Module):\n",
    "    def __init__(self, heads:int, d_model:int, dropout_prob:float = 0.1, bias=False):\n",
    "        super().__init__()\n",
    "        self.d_k = d_model // heads\n",
    "        \n",
    "        self.heads = heads\n",
    "        \n",
    "        self.query = PrepareForMultiHeadAttention(d_model, heads, self.d_k, bias=bias)\n",
    "        self.key = PrepareForMultiHeadAttention(d_model, heads, self.d_k, bias=bias)\n",
    "        self.value = PrepareForMultiHeadAttention(d_model, heads, self.d_k, bias=True)\n",
    "        \n",
    "        self.softmax = nn.Softmax(dim=1)\n",
    "        self.output = nn.Linear(d_model, d_model)\n",
    "        self.dropout = nn.Dropout(p=dropout_prob)\n",
    "        self.scale = 1 / math.sqrt(self.d_k)\n",
    "        self.attn = None\n",
    "        \n",
    "        \n",
    "    def get_scores(self, query: torch.Tensor, key: torch.Tensor):\n",
    "        return torch.einsum('ibhd,jbhd->ijbh', query, key)\n",
    "    \n",
    "    def prepare_mask(self, mask: torch.Tensor, query_shape: List[int], key_shape: List[int]):\n",
    "        assert mask.shape[0] == 1 or mask.shape[0] == query_shape[0]\n",
    "        assert mask.shape[1] == key_shape[0]\n",
    "        assert mask.shape[2] == 1 or mask.shape[2] == query_shape[1]\n",
    "        \n",
    "        mask = mask.unsqueeze(-1)\n",
    "        return mask\n",
    "    \n",
    "    \n",
    "    def forward(self, *, query:torch.Tensor, \n",
    "                key: torch.Tensor, \n",
    "                value: torch.Tensor,\n",
    "                mask: Optional[torch.Tensor] = None):\n",
    "        \n",
    "        seq_len, batch_size = query.shape\n",
    "        \n",
    "        query = self.query(query)\n",
    "        key = self.key(key)\n",
    "        value = self.value(value)\n",
    "        \n",
    "        if mask is not None:\n",
    "            mask = self.prepare_mask(mask, query, key)\n",
    "            \n",
    "        scores = self.get_scores(query, key)\n",
    "        \n",
    "        scores *= self.scale\n",
    "        \n",
    "        if mask is not None:\n",
    "            scores = scores.masked_fill(mask==0, float(\"-inf\"))\n",
    "            \n",
    "        attn = self.softmax(scores)\n",
    "        \n",
    "        attn = self.dropout(attn)\n",
    "        \n",
    "        x = torch.einsum(\"ijbh,jbhd->ibhd\", attn, value)\n",
    "        x = x.reshape(seq_len, batch_size, -1)\n",
    "        return self.output(x)\n",
    "            \n",
    "            \n",
    "        "
   ]
  },
  {
   "cell_type": "markdown",
   "metadata": {},
   "source": [
    "### Encoder Decoder Architecture\n",
    "The encoder takes in variable length input and converts it into a fixed length state, while the decoder takes the fixed length state and converts it into a variable length output."
   ]
  },
  {
   "cell_type": "code",
   "execution_count": null,
   "metadata": {},
   "outputs": [],
   "source": [
    "class Encoder(nn.Module):\n",
    "    # The input sentence is tokenized into words and then from words into vectors\n",
    "    # Embedding mappings transform each word into a vector embedding\n",
    "    pass\n",
    "\n",
    "class Decoder(nn.Module):\n",
    "    # Takes in the context created by the encoder and produces an ouput sequence\n",
    "    pass\n",
    "\n",
    "#RNNs are bad, here comes attention\n",
    "class Attention(nn.Module):\n",
    "    pass\n",
    "\n",
    "class AddNorm(nn.Module):\n",
    "    # Residual addtion and normalization used in the attention mechanism\n",
    "    def forward(input, output):\n",
    "        return input + output\n",
    "    \n",
    "class Transformer(nn.Module):\n",
    "    # This is composed of an attention and linear layer which both use redisual connections\n",
    "    pass\n",
    "\n"
   ]
  },
  {
   "cell_type": "markdown",
   "metadata": {},
   "source": [
    "### Fixed Positional Emdedding \n",
    "This is done to add positional information to the input embedding prior to the attention processs, this is because the concept of position is lost during the attention step"
   ]
  },
  {
   "cell_type": "code",
   "execution_count": 169,
   "metadata": {},
   "outputs": [],
   "source": [
    "import math\n",
    "import torch\n",
    "import torch.nn as nn\n",
    "import numpy as np\n",
    "\n",
    "class PostionalEncoding(nn.Module):\n",
    "    def __init__(self, d_model:int, dropoput_prob: float=0.1, max_length:int=5000):\n",
    "        super().__init__()\n",
    "        self.dropout = nn.Dropout(p=dropoput_prob)\n",
    "        self.register_buffer(\"positional_encodings\", get_positional_encodings(d_model, max_length), False)\n",
    "        \n",
    "    def forward(self, x):\n",
    "        pe = self.positional_encodings[: x.shape[0]].detach().requires_grad_(False)\n",
    "        x = x + pe\n",
    "        x = self.dropout(x)\n",
    "        return x\n",
    "    \n",
    "def get_positional_encodings(d_model:int, max_len:int):\n",
    "    encodings = torch.zeros(max_len, d_model)\n",
    "    position = torch.arange(0, max_len, dtype=torch.float32).unsqueeze(1)\n",
    "    two_i = torch.arange(0, d_model, 2, dtype=torch.float32)\n",
    "    div_term = torch.exp(two_i * -(math.log(1000.0) / d_model))\n",
    "    pos_encode = position * div_term\n",
    "    encodings[:,0::2] = torch.sin(pos_encode)\n",
    "    encodings[:,1::2] = torch.cos(pos_encode)\n",
    "    encodings = encodings.unsqueeze(1).requires_grad_(False)\n",
    "    return encodings\n",
    " \n",
    "\n",
    "\n",
    "class LearnedPositionalEncodings(nn.Module):\n",
    "    pass\n"
   ]
  },
  {
   "cell_type": "code",
   "execution_count": 170,
   "metadata": {},
   "outputs": [
    {
     "data": {
      "image/png": "[encoded data removed]",
      "text/plain": [
       "<Figure size 1500x500 with 1 Axes>"
      ]
     },
     "metadata": {},
     "output_type": "display_data"
    }
   ],
   "source": [
    "def test_positional_encoding():\n",
    "    import matplotlib.pyplot as plt\n",
    "    \n",
    "    plt.figure(figsize=(15, 5))\n",
    "    pe = get_positional_encodings(20, 100)\n",
    "    plt.plot(np.arange(100), pe[:, 0, 4:8].numpy())\n",
    "    plt.legend([\"dim %d\" % p for p in [4, 5, 6, 7]])\n",
    "    plt.title(\"Positional encoding\")\n",
    "    plt.show()\n",
    "    \n",
    "    \n",
    "test_positional_encoding()\n",
    "    \n",
    "    "
   ]
  },
  {
   "cell_type": "markdown",
   "metadata": {},
   "source": [
    "### PostAttention Feedforward"
   ]
  },
  {
   "cell_type": "markdown",
   "metadata": {},
   "source": [
    "### Transformer block"
   ]
  },
  {
   "cell_type": "code",
   "execution_count": null,
   "metadata": {},
   "outputs": [],
   "source": [
    "import torch\n",
    "import torch.nn as nn"
   ]
  },
  {
   "cell_type": "code",
   "execution_count": null,
   "metadata": {},
   "outputs": [],
   "source": [
    "class TransformerBlock(nn.Module):\n",
    "    def __init__(self,\n",
    "                 dmodel, # dmodel is the size of a single token vector after it has been embedded\n",
    "                 self_attn, # this is the attention block that would be used for self attention on the input sequence\n",
    "                 cross_attn, # this is the attention block that would be used for cross attention from another source\n",
    "                 feed_forward, # this is the post attention feed forward function applied, after the attention network has communicated with the other inputs, this is used for communication\n",
    "                 dropout_prob, # this is the dropout probability used for adding the dropout layer\n",
    "                 ):\n",
    "        super().__init__()\n",
    "        self.size = dmodel\n",
    "        self.self_attn = self_attn\n",
    "        self.cross_attn = cross_attn\n",
    "        self.feed_forward = feed_forward\n",
    "        self.dropout = nn.Dropout(p=dropout_prob)\n",
    "        self.norm_self_attn = nn.LayerNorm([dmodel])\n",
    "        if self.cross_attn is not None:\n",
    "            self.norm_cross_attn = nn.LayerNorm([dmodel])\n",
    "        self.norm_ff = nn.LayerNorm([dmodel])\n",
    "        \n",
    "    def forward(self, \n",
    "                x: torch.Tensor,\n",
    "                mask: torch.Tensor, \n",
    "                cross: torch.Tensor,\n",
    "                cross_mask: torch.Tensor\n",
    "                ):\n",
    "        z = self.norm_self_attn(x)\n",
    "        self_attn = self.self_attn(query=z, key=z, value=z, mask=mask)\n",
    "        x = x + self.dropout(self_attn)\n",
    "        \n",
    "        if cross:\n",
    "            z= self.norm_cross_attn(x)\n",
    "            cross_attn = self.cross_attn(query=z, key=cross, value=cross, mask=cross_mask)\n",
    "            x = x + self.dropout(cross_attn)\n",
    "            \n",
    "        z = self.norm_ff(x)\n",
    "        ff = self.feed_forward(z)\n",
    "        \n",
    "        x = x + self.dropout(ff)\n",
    "        \n",
    "        return x\n",
    "            \n",
    "        \n",
    "        "
   ]
  },
  {
   "cell_type": "markdown",
   "metadata": {},
   "source": [
    "### Residual Connection"
   ]
  },
  {
   "cell_type": "markdown",
   "metadata": {},
   "source": [
    "### Transformer"
   ]
  },
  {
   "cell_type": "markdown",
   "metadata": {},
   "source": [
    "### Training"
   ]
  },
  {
   "cell_type": "markdown",
   "metadata": {},
   "source": [
    "### Evaluation"
   ]
  },
  {
   "cell_type": "markdown",
   "metadata": {},
   "source": [
    "### Encoder\n",
    "The encoder is used to semantically understand the information being represented in an input sequence."
   ]
  },
  {
   "cell_type": "code",
   "execution_count": null,
   "metadata": {},
   "outputs": [],
   "source": [
    "class Encoder(nn.Module):\n",
    "    def __init__(self, block: TransformerBlock, num_blocks: int):\n",
    "        super().__init__()\n",
    "        self.blocks = nn.ModuleList([ block for n in num_blocks ])\n",
    "        self.norm = nn.LayerNorm([block.size])\n",
    "\n",
    "    def forward(self, x: torch.Tensor, mask: torch.Tensor):\n",
    "        for block in self.blocks:\n",
    "            x = block(x, mask)\n",
    "        x = self.norm(x)\n",
    "        return x"
   ]
  },
  {
   "cell_type": "markdown",
   "metadata": {},
   "source": [
    "### Decoder\n",
    "The decode optionally uses input from an encoder and generates outputs"
   ]
  },
  {
   "cell_type": "code",
   "execution_count": null,
   "metadata": {},
   "outputs": [],
   "source": [
    "class Decoder(nn.Module):\n",
    "    def __init__(self, block: TransformerBlock, num_blocks: int):\n",
    "        super().__init__()\n",
    "        self.blocks = nn.ModuleList([block for n in num_blocks])\n",
    "        self.norm = nn.LayerNorm([block.size])\n",
    "        \n",
    "        \n",
    "    def forward(self, x: torch.Tensor, mask: torch.Tensor, cross: torch.Tensor=None, cross_mask: torch.Tensor=None):\n",
    "        # cross is also regarded as memory in certain contexts\n",
    "        for block in self.blocks:\n",
    "            x = block(x, mask=mask, cross=cross, cross_mask=cross_mask)\n",
    "        x = self.norm(x)\n",
    "        return x"
   ]
  },
  {
   "cell_type": "markdown",
   "metadata": {},
   "source": [
    "### Generator\n",
    "The generator is responsible for generating outputs based on the size of the vocabulary"
   ]
  },
  {
   "cell_type": "code",
   "execution_count": null,
   "metadata": {},
   "outputs": [],
   "source": [
    "class Generator(nn.Module):\n",
    "    def __init__(self, dmodel:int, vocab_size:int):\n",
    "        super().__init__()\n",
    "        self.projection = nn.Linear(dmodel, vocab_size)\n",
    "    \n",
    "    def forward(self, x):\n",
    "        return self.projection(x)"
   ]
  },
  {
   "cell_type": "markdown",
   "metadata": {},
   "source": [
    "### Encoder Decoder\n",
    "We can combine the encoder and decoder models together for sequence to sequence tasks"
   ]
  },
  {
   "cell_type": "code",
   "execution_count": null,
   "metadata": {},
   "outputs": [],
   "source": [
    "class EncoderDecoder(nn.Module):\n",
    "    def __init__(self, encoder: Encoder, decoder, generator, src_embedder, tgt_embedder, *args, **kwargs):\n",
    "        super().__init__(*args, **kwargs)\n",
    "        self.encoder = encoder\n",
    "        self.decoder = decoder\n",
    "        self.generator = generator\n",
    "        self.src_embedder = src_embedder\n",
    "        self.tgt_embedder = tgt_embedder\n",
    "        \n",
    "    def encode(self, x, mask):\n",
    "        return self.encoder(self.src_embedder(x), mask)\n",
    "    \n",
    "    def decode(self, x, mask, cross, cross_mask):\n",
    "        return self.decoder(self.tgt_embedder(x), mask, cross, cross_mask)\n",
    "    \n",
    "    def forward(self, src, tgt, src_mask, tgt_mask):\n",
    "        encoded = self.encode(src, src_mask)\n",
    "        decoded = self.decode(tgt, tgt_mask, encoded, src_mask)\n",
    "        return decoded\n",
    "        "
   ]
  },
  {
   "cell_type": "markdown",
   "metadata": {},
   "source": [
    "### Implementation of the Bahdanau attention\n",
    "The Bahdanau attention is the earliest implemenaton of the attention mechanism, we will be comparing the performance of the bahdanau attention using a GRU RRN model, to the performance of the transformer"
   ]
  },
  {
   "cell_type": "code",
   "execution_count": 9,
   "metadata": {},
   "outputs": [],
   "source": [
    "import torch\n",
    "import torch.nn as nn\n",
    "import torch.nn.functional as F"
   ]
  },
  {
   "cell_type": "code",
   "execution_count": 15,
   "metadata": {},
   "outputs": [],
   "source": [
    "class BahdanauEncoder(nn.Module):\n",
    "    def __init__(self,\n",
    "                 input_dim,\n",
    "                 embedding_dim, \n",
    "                 encoder_dim, \n",
    "                 decoder_dim, \n",
    "                 dropout_p,\n",
    "                 *args, **kwargs):\n",
    "        super().__init__(*args, **kwargs)\n",
    "        self.input_dim =input_dim # what is the input dim???\n",
    "        self.embedding_dim =embedding_dim\n",
    "        self.encoder_hidden_dim =encoder_dim\n",
    "        self.decoder_hidden_dim =decoder_dim\n",
    "        self.dropout_p =dropout_p\n",
    "        \n",
    "        self.embedding = nn.Embedding(input_dim, embedding_dim)\n",
    "        self.gru = nn.GRU(embedding_dim, \n",
    "                          encoder_dim, \n",
    "                          bidirectional=True)\n",
    "        \n",
    "        self.linear = nn.Linear(encoder_dim * 2, decoder_dim)\n",
    "        self.dropout = nn.Dropout(p=dropout_p)\n",
    "        \n",
    "    def forward(self, x):\n",
    "        embeddings = self.dropout(self.embedding(x))\n",
    "        output, hidden = self.gru(embeddings)    \n",
    "        hidden = torch.tanh(self.linear(\n",
    "                    torch.cat((hidden[-2, :,:],hidden[-1,:,:]),\n",
    "                    dim=1)\n",
    "                    ))\n",
    "        return  output, hidden"
   ]
  },
  {
   "cell_type": "code",
   "execution_count": 36,
   "metadata": {},
   "outputs": [],
   "source": [
    "class BahdanauAttentionQKV(nn.Module):\n",
    "    def __init__(self, hidden_size,\n",
    "                 query_size=None, key_size=None, dropout_p=0.15):\n",
    "        super().__init__()\n",
    "        self.hidden_size = hidden_size\n",
    "        self.query_size = hidden_size if query_size is None else query_size \n",
    "        self.key_size = 2 * hidden_size if key_size is None else key_size \n",
    "        \n",
    "        self.query_layer =nn.Linear(self.query_size,\n",
    "                                    hidden_size)\n",
    "        self.key_layer =nn.Linear(self.key_size, hidden_size)\n",
    "        self.energy_layer =nn.Linear(hidden_size,1)\n",
    "        self.dropout =nn.Dropout(p=dropout_p)\n",
    "        \n",
    "        \n",
    "        \n",
    "    def forward(self, hidden, encoder_outputs, src_mask=None):\n",
    "        query_out =self.query_layer(hidden)\n",
    "        # (Src,B,2*H) -->(Src,B,H)\n",
    "        key_out =self.key_layer(encoder_outputs)\n",
    "        energy_input = torch.tanh(query_out + key_out)\n",
    "        energies = self.energy_layer(energy_input).squeeze(2)\n",
    "        \n",
    "        if src_mask is not None:\n",
    "            energies.data_mask_fill(src_mask==0, float(\"-inf\"))\n",
    "        \n",
    "        weights = F.softmax(energies, dim=0)\n",
    "        return weights.transpose(0, 1)"
   ]
  },
  {
   "cell_type": "code",
   "execution_count": 32,
   "metadata": {},
   "outputs": [],
   "source": [
    "class BahdanauDecoder(nn.Module):\n",
    "    def __init__(self, output_dim, embedding_dim, \n",
    "                 encoder_dim, decoder_dim, \n",
    "                 attention, dropout_p,\n",
    "                 *args, **kwargs) -> None:\n",
    "        super().__init__(*args, **kwargs)\n",
    "        self.embedding_dim = embedding_dim\n",
    "        self.output_dim = output_dim\n",
    "        self.encoder_hidden_dim = encoder_dim\n",
    "        self.decoder_hidden_dim = decoder_dim\n",
    "        self.dropout_p = dropout_p\n",
    "        self.embedding = nn.Embedding(output_dim, embedding_dim)\n",
    "        self.attention = attention\n",
    "        self.gru = nn.GRU((encoder_dim * 2) + embedding_dim, decoder_dim)\n",
    "        self.output = nn.Linear((encoder_dim * 2) + embedding_dim+ decoder_dim, output_dim)\n",
    "        self.dropout = nn.Dropout(p=dropout_p)\n",
    "        \n",
    "    def forward(self, input, hidden, encoder_outputs, src_mask=None):\n",
    "        input = input.unsqeeze(0)\n",
    "        embedded = self.dropout(self.embedding(input))\n",
    "        attentions = self.attention(hidden, encoder_outputs, src_mask)\n",
    "        a = attentions.unsqeeze(1)\n",
    "        encoder_outputs = encoder_outputs.transpose(0, 1)\n",
    "        weighted = torch.bmm(a, encoder_outputs)\n",
    "        weighted = torch.transpose(0, 1)\n",
    "        \n",
    "        rnn_input = torch.cat((embedded, weighted), dim=2)\n",
    "        output, hidden=self.gru(rnn_input,hidden.unsqueeze(0))\n",
    "        assert (output==hidden).all()\n",
    "        \n",
    "        # getridofemptyleadingdimensions\n",
    "        embedded =embedded.squeeze(0)\n",
    "        output =output.squeeze(0)\n",
    "        weighted =weighted.squeeze(0)\n",
    "        \n",
    "        linear_input =torch.cat((output,weighted,embedded),dim=1)\n",
    "        # (B,Dec+2*Enc+Emb)-->(B,O)\n",
    "        output =self.out(linear_input)\n",
    "        return output, hidden.squeeze(0),attentions\n",
    "        \n",
    "        \n",
    "        \n",
    "        "
   ]
  },
  {
   "cell_type": "code",
   "execution_count": 12,
   "metadata": {},
   "outputs": [],
   "source": [
    "ENCODER_EMBEDDING_DIM = 256\n",
    "DECODER_EMBEDDING_DIM = 256\n",
    "ENCODER_HIDDEN_SIZE = 256\n",
    "DECODER_HIDDEN_SIZE = 256\n"
   ]
  },
  {
   "cell_type": "code",
   "execution_count": 28,
   "metadata": {},
   "outputs": [
    {
     "name": "stderr",
     "output_type": "stream",
     "text": [
      "/Users/kosisochukwuasuzu/Developer/machine_learning/llm-from-scratch/venv/lib/python3.11/site-packages/torchtext/data/utils.py:105: UserWarning: Spacy model \"de\" could not be loaded, trying \"de_core_news_sm\" instead\n",
      "  warnings.warn(\n",
      "/Users/kosisochukwuasuzu/Developer/machine_learning/llm-from-scratch/venv/lib/python3.11/site-packages/torchtext/data/utils.py:105: UserWarning: Spacy model \"en\" could not be loaded, trying \"en_core_web_sm\" instead\n",
      "  warnings.warn(\n"
     ]
    }
   ],
   "source": [
    "import torchtext\n",
    "import torch\n",
    "from torchtext.data.utils import get_tokenizer\n",
    "from collections import Counter\n",
    "from torchtext.vocab import vocab\n",
    "from torchtext.utils import download_from_url, extract_archive\n",
    "import io\n",
    "\n",
    "url_base = 'https://raw.githubusercontent.com/multi30k/dataset/master/data/task1/raw/'\n",
    "train_urls = ('train.de.gz', 'train.en.gz')\n",
    "val_urls = ('val.de.gz', 'val.en.gz')\n",
    "test_urls = ('test_2016_flickr.de.gz', 'test_2016_flickr.en.gz')\n",
    "\n",
    "train_filepaths = [extract_archive(download_from_url(url_base + url))[0] for url in train_urls]\n",
    "val_filepaths = [extract_archive(download_from_url(url_base + url))[0] for url in val_urls]\n",
    "test_filepaths = [extract_archive(download_from_url(url_base + url))[0] for url in test_urls]\n",
    "\n",
    "de_tokenizer = get_tokenizer('spacy', language='de')\n",
    "en_tokenizer = get_tokenizer('spacy', language='en')\n",
    "\n",
    "def build_vocab(filepath, tokenizer):\n",
    "  counter = Counter()\n",
    "  with io.open(filepath, encoding=\"utf8\") as f:\n",
    "    for string_ in f:\n",
    "      counter.update(tokenizer(string_))\n",
    "  return vocab(counter, specials=['<unk>', '<pad>', '<bos>', '<eos>'])\n",
    "\n",
    "de_vocab = build_vocab(train_filepaths[0], de_tokenizer)\n",
    "en_vocab = build_vocab(train_filepaths[1], en_tokenizer)\n",
    "\n",
    "def data_process(filepaths):\n",
    "  raw_de_iter = iter(io.open(filepaths[0], encoding=\"utf8\"))\n",
    "  raw_en_iter = iter(io.open(filepaths[1], encoding=\"utf8\"))\n",
    "  data = []\n",
    "  for (raw_de, raw_en) in zip(raw_de_iter, raw_en_iter):\n",
    "    de_tensor_ = torch.tensor([de_vocab[token] for token in de_tokenizer(raw_de)],\n",
    "                            dtype=torch.long)\n",
    "    en_tensor_ = torch.tensor([en_vocab[token] for token in en_tokenizer(raw_en)],\n",
    "                            dtype=torch.long)\n",
    "    data.append((en_tensor_, de_tensor_))\n",
    "  return data\n",
    "\n",
    "train_data = data_process(train_filepaths)\n",
    "# val_data = data_process(val_filepaths)\n",
    "# test_data = data_process(test_filepaths)"
   ]
  },
  {
   "cell_type": "code",
   "execution_count": 16,
   "metadata": {},
   "outputs": [],
   "source": [
    "enc =BahdanauEncoder(input_dim=len(en_vocab),\n",
    "embedding_dim=ENCODER_EMBEDDING_DIM,\n",
    "encoder_dim=ENCODER_HIDDEN_SIZE,\n",
    "decoder_dim=DECODER_HIDDEN_SIZE,\n",
    "dropout_p=0.15)"
   ]
  },
  {
   "cell_type": "code",
   "execution_count": 37,
   "metadata": {},
   "outputs": [],
   "source": [
    "attn =BahdanauAttentionQKV(DECODER_HIDDEN_SIZE)"
   ]
  },
  {
   "cell_type": "code",
   "execution_count": 39,
   "metadata": {},
   "outputs": [],
   "source": [
    "dec =BahdanauDecoder(output_dim=len(de_vocab),\n",
    "                        embedding_dim=DECODER_EMBEDDING_DIM,\n",
    "                        encoder_dim=ENCODER_HIDDEN_SIZE,\n",
    "                        decoder_dim=DECODER_HIDDEN_SIZE,\n",
    "                        attention=attn,\n",
    "                        dropout_p=0.15)                        "
   ]
  },
  {
   "cell_type": "code",
   "execution_count": 40,
   "metadata": {},
   "outputs": [],
   "source": [
    "seq2seq = None"
   ]
  },
  {
   "cell_type": "code",
   "execution_count": 41,
   "metadata": {},
   "outputs": [],
   "source": [
    "import os\n",
    "\n",
    "MAX_SENTENCE_LENGTH = 20\n",
    "FILTER_TO_BASIC_PREFIXES = False\n",
    "SAVE_DIR = os.path.join(\".\", \"model\")"
   ]
  },
  {
   "cell_type": "code",
   "execution_count": null,
   "metadata": {},
   "outputs": [],
   "source": [
    "from tqdm import tqdm"
   ]
  },
  {
   "cell_type": "code",
   "execution_count": 42,
   "metadata": {},
   "outputs": [],
   "source": [
    "class MultipleOptimizer:\n",
    "    def __init__(self, *agrs):\n",
    "        self.optimizers = agrs\n",
    "    \n",
    "    def step(self):\n",
    "        for opt in self.optimizers:\n",
    "            opt.step()\n",
    "    \n",
    "    def zero(self):\n",
    "        for opt in self.optimizers:\n",
    "            opt.zero()"
   ]
  },
  {
   "cell_type": "code",
   "execution_count": null,
   "metadata": {},
   "outputs": [],
   "source": [
    "enc_optim =torch.optim.AdamW(seq2seq.encoder.parameters(), lr=1e-4)\n",
    "dec_optim =torch.optim.AdamW(seq2seq.decoder.parameters(),lr=1e-4)\n",
    "optims =MultipleOptimizer(enc_optim,dec_optim)\n",
    "best_valid_loss = float(\"inf\")\n",
    "for epoch in tqdm(range(N_EPOCHS), leave=False, desc=\"Epoch\"):\n",
    "    train_loss = train(seq2seq, train_iter,optims,loss_fn, device, clip=CLIP)\n",
    "    valid_loss = evaluate(seq2seq,valid_iter,loss_fn, device)\n",
    "    if valid_loss <best_valid_loss:\n",
    "        best_valid_loss =valid_loss\n",
    "        torch.save(seq2seq.state_dict(), model_path)"
   ]
  }
 ],
 "metadata": {
  "kernelspec": {
   "display_name": "venv",
   "language": "python",
   "name": "python3"
  },
  "language_info": {
   "codemirror_mode": {
    "name": "ipython",
    "version": 3
   },
   "file_extension": ".py",
   "mimetype": "text/x-python",
   "name": "python",
   "nbconvert_exporter": "python",
   "pygments_lexer": "ipython3",
   "version": "3.11.5"
  },
  "orig_nbformat": 4
 },
 "nbformat": 4,
 "nbformat_minor": 2
}
